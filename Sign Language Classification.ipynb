{
 "cells": [
  {
   "cell_type": "code",
   "execution_count": 183,
   "id": "ba447a7b",
   "metadata": {},
   "outputs": [],
   "source": [
    "import cv2\n",
    "import warnings\n",
    "import numpy as np\n",
    "import pandas as pd\n",
    "import seaborn as sns\n",
    "import tensorflow as tf\n",
    "from sklearn import metrics\n",
    "import matplotlib.pyplot as plt\n",
    "from sklearn import preprocessing\n",
    "from tensorflow.keras import backend as k\n",
    "from sklearn.metrics import accuracy_score\n",
    "from tensorflow.keras.optimizers import Adam\n",
    "from tensorflow.keras.models import Sequential\n",
    "from sklearn.preprocessing import LabelBinarizer\n",
    "from sklearn.model_selection import train_test_split\n",
    "from tensorflow.keras.layers import Flatten, Conv2D, Dense, Dropout,MaxPooling2D\n",
    "warnings.filterwarnings(\"ignore\")\n",
    "# !pip install lxml"
   ]
  },
  {
   "cell_type": "code",
   "execution_count": 184,
   "id": "03cfe332",
   "metadata": {},
   "outputs": [],
   "source": [
    "np.random.seed(0)\n",
    "tf.random.set_seed(42)"
   ]
  },
  {
   "cell_type": "code",
   "execution_count": 185,
   "id": "a6e0eab1",
   "metadata": {},
   "outputs": [],
   "source": [
    "train_data = pd.read_csv(r'\\Users\\Family\\Downloads\\archive (1)\\sign_mnist_train.csv')\n",
    "test_data = pd.read_csv(r'\\Users\\Family\\Downloads\\archive (1)\\sign_mnist_test.csv')"
   ]
  },
  {
   "cell_type": "code",
   "execution_count": 186,
   "id": "86cf94e1",
   "metadata": {},
   "outputs": [
    {
     "data": {
      "text/plain": [
       "array([ 0,  1,  2,  3,  4,  5,  6,  7,  8, 10, 11, 12, 13, 14, 15, 16, 17,\n",
       "       18, 19, 20, 21, 22, 23, 24], dtype=int64)"
      ]
     },
     "execution_count": 186,
     "metadata": {},
     "output_type": "execute_result"
    }
   ],
   "source": [
    "labels=train_data['label'].values\n",
    "np.unique(labels)"
   ]
  },
  {
   "cell_type": "code",
   "execution_count": 187,
   "id": "d44fd589",
   "metadata": {},
   "outputs": [
    {
     "data": {
      "text/plain": [
       "<AxesSubplot:ylabel='count'>"
      ]
     },
     "execution_count": 187,
     "metadata": {},
     "output_type": "execute_result"
    },
    {
     "data": {
      "image/png": "[encoded data removed]",
      "text/plain": [
       "<Figure size 1296x576 with 1 Axes>"
      ]
     },
     "metadata": {
      "needs_background": "light"
     },
     "output_type": "display_data"
    }
   ],
   "source": [
    "plt.figure(figsize=(18,8))\n",
    "sns.countplot(x=labels)"
   ]
  },
  {
   "cell_type": "code",
   "execution_count": 188,
   "id": "1188fa77",
   "metadata": {},
   "outputs": [],
   "source": [
    "train_data.drop(\"label\",axis=1,inplace=True)\n",
    "test_labels = test_data[\"label\"]\n",
    "test_data.drop('label',axis=1, inplace=True)"
   ]
  },
  {
   "cell_type": "code",
   "execution_count": 189,
   "id": "976db659",
   "metadata": {},
   "outputs": [],
   "source": [
    "images=train_data.values\n",
    "images=np.array([np.reshape(i,(28,28)) for i in images])\n",
    "images=np.array([i.flatten() for i in images])\n",
    "\n",
    "test_images=test_data.values\n",
    "test_images=np.array([np.reshape(i,(28,28)) for i in test_images])\n",
    "test_images=np.array([i.flatten() for i in test_images])"
   ]
  },
  {
   "cell_type": "code",
   "execution_count": 190,
   "id": "9f4ff5e4",
   "metadata": {},
   "outputs": [
    {
     "data": {
      "text/plain": [
       "array([ 3,  6,  2, ..., 18, 17, 23], dtype=int64)"
      ]
     },
     "execution_count": 190,
     "metadata": {},
     "output_type": "execute_result"
    }
   ],
   "source": [
    "labels"
   ]
  },
  {
   "cell_type": "code",
   "execution_count": 191,
   "id": "683d71c7",
   "metadata": {},
   "outputs": [],
   "source": [
    "label_binrizer = LabelBinarizer()\n",
    "labels = label_binrizer.fit_transform(labels)\n",
    "test_labels=label_binrizer.fit_transform(test_labels)"
   ]
  },
  {
   "cell_type": "code",
   "execution_count": 192,
   "id": "2b0fd4bc",
   "metadata": {},
   "outputs": [
    {
     "data": {
      "text/plain": [
       "array([[0, 0, 0, ..., 0, 0, 0],\n",
       "       [0, 0, 0, ..., 0, 0, 0],\n",
       "       [0, 0, 1, ..., 0, 0, 0],\n",
       "       ...,\n",
       "       [0, 0, 0, ..., 0, 0, 0],\n",
       "       [0, 0, 0, ..., 0, 0, 0],\n",
       "       [0, 0, 0, ..., 0, 1, 0]])"
      ]
     },
     "execution_count": 192,
     "metadata": {},
     "output_type": "execute_result"
    }
   ],
   "source": [
    "labels"
   ]
  },
  {
   "cell_type": "code",
   "execution_count": 193,
   "id": "cc20feeb",
   "metadata": {},
   "outputs": [
    {
     "data": {
      "text/plain": [
       "<matplotlib.image.AxesImage at 0x23e90c5cf40>"
      ]
     },
     "execution_count": 193,
     "metadata": {},
     "output_type": "execute_result"
    },
    {
     "data": {
      "image/png": "[encoded data removed]",
      "text/plain": [
       "<Figure size 432x288 with 1 Axes>"
      ]
     },
     "metadata": {
      "needs_background": "light"
     },
     "output_type": "display_data"
    }
   ],
   "source": [
    "plt.imshow(images[21].reshape(28,28))"
   ]
  },
  {
   "cell_type": "code",
   "execution_count": 194,
   "id": "a84f5aa5",
   "metadata": {},
   "outputs": [],
   "source": [
    "for i in range(0,10):\n",
    "    rand = np.random.randint(0,len(images))\n",
    "    input_im = images[rand]\n",
    "    sample = input_im.reshape(28,28).astype(np.uint8)\n",
    "    sample = cv2.resize(sample, None, fx=10, fy=10, interpolation=cv2.INTER_CUBIC)\n",
    "    cv2.imshow(\"Sample Image\",sample)\n",
    "    cv2.waitKey(1000)\n",
    "cv2.destroyAllWindows()"
   ]
  },
  {
   "cell_type": "code",
   "execution_count": 195,
   "id": "5c0fc4e3",
   "metadata": {},
   "outputs": [],
   "source": [
    "x_train,x_test,y_train,y_test=train_test_split(images,labels,test_size=0.2,random_state=0)"
   ]
  },
  {
   "cell_type": "code",
   "execution_count": 196,
   "id": "affae140",
   "metadata": {},
   "outputs": [],
   "source": [
    "num_classes=24"
   ]
  },
  {
   "cell_type": "code",
   "execution_count": 197,
   "id": "172af79a",
   "metadata": {},
   "outputs": [],
   "source": [
    "x_train=x_train/255\n",
    "x_test=x_test/255"
   ]
  },
  {
   "cell_type": "code",
   "execution_count": 198,
   "id": "0974cb4f",
   "metadata": {},
   "outputs": [
    {
     "data": {
      "text/plain": [
       "<matplotlib.image.AxesImage at 0x23e90bf3130>"
      ]
     },
     "execution_count": 198,
     "metadata": {},
     "output_type": "execute_result"
    },
    {
     "data": {
      "image/png": "[encoded data removed]",
      "text/plain": [
       "<Figure size 432x288 with 1 Axes>"
      ]
     },
     "metadata": {
      "needs_background": "light"
     },
     "output_type": "display_data"
    }
   ],
   "source": [
    "x_train=x_train.reshape(x_train.shape[0],28,28,1)\n",
    "x_test=x_test.reshape(x_test.shape[0],28,28,1)\n",
    "plt.imshow(x_train[21].reshape(28,28))"
   ]
  },
  {
   "cell_type": "code",
   "execution_count": 199,
   "id": "8cec17d8",
   "metadata": {},
   "outputs": [],
   "source": [
    "model=Sequential()\n",
    "model.add(Conv2D(128 ,kernel_size=(5,5),\n",
    "                 strides=1,padding='same', activation = 'relu', input_shape=(28,28,1)))\n",
    "model.add(MaxPooling2D(pool_size=(3, 3),strides=2,padding='same'))\n",
    "\n",
    "model.add(Conv2D(64, kernel_size=(2,2), activation = 'relu',strides=1,padding='same'))\n",
    "model.add(MaxPooling2D((2,2),2,padding='same'))\n",
    "\n",
    "model.add(Conv2D(32, kernel_size=(2,2), activation = 'relu',strides=1,padding='same'))\n",
    "model.add(MaxPooling2D((2,2),2,padding='same'))\n",
    "\n",
    "model.add(Flatten())\n",
    "model.add(Dense(units=512, activation = 'relu'))\n",
    "model.add(Dropout(rate=0.25))\n",
    "model.add(Dense(units=24,activation='softmax'))"
   ]
  },
  {
   "cell_type": "code",
   "execution_count": 200,
   "id": "63d0ec89",
   "metadata": {},
   "outputs": [],
   "source": [
    "model.compile(loss='categorical_crossentropy', optimizer=Adam(),metrics=['accuracy'])"
   ]
  },
  {
   "cell_type": "code",
   "execution_count": 201,
   "id": "9211a328",
   "metadata": {},
   "outputs": [
    {
     "name": "stdout",
     "output_type": "stream",
     "text": [
      "Model: \"sequential_6\"\n",
      "_________________________________________________________________\n",
      " Layer (type)                Output Shape              Param #   \n",
      "=================================================================\n",
      " conv2d_18 (Conv2D)          (None, 28, 28, 128)       3328      \n",
      "                                                                 \n",
      " max_pooling2d_18 (MaxPooli  (None, 14, 14, 128)       0         \n",
      " ng2D)                                                           \n",
      "                                                                 \n",
      " conv2d_19 (Conv2D)          (None, 14, 14, 64)        32832     \n",
      "                                                                 \n",
      " max_pooling2d_19 (MaxPooli  (None, 7, 7, 64)          0         \n",
      " ng2D)                                                           \n",
      "                                                                 \n",
      " conv2d_20 (Conv2D)          (None, 7, 7, 32)          8224      \n",
      "                                                                 \n",
      " max_pooling2d_20 (MaxPooli  (None, 4, 4, 32)          0         \n",
      " ng2D)                                                           \n",
      "                                                                 \n",
      " flatten_6 (Flatten)         (None, 512)               0         \n",
      "                                                                 \n",
      " dense_12 (Dense)            (None, 512)               262656    \n",
      "                                                                 \n",
      " dropout_6 (Dropout)         (None, 512)               0         \n",
      "                                                                 \n",
      " dense_13 (Dense)            (None, 24)                12312     \n",
      "                                                                 \n",
      "=================================================================\n",
      "Total params: 319352 (1.22 MB)\n",
      "Trainable params: 319352 (1.22 MB)\n",
      "Non-trainable params: 0 (0.00 Byte)\n",
      "_________________________________________________________________\n"
     ]
    }
   ],
   "source": [
    "model.summary()"
   ]
  },
  {
   "cell_type": "code",
   "execution_count": 202,
   "id": "02c6110e",
   "metadata": {
    "scrolled": false
   },
   "outputs": [
    {
     "name": "stdout",
     "output_type": "stream",
     "text": [
      "Epoch 1/15\n",
      "687/687 [==============================] - 42s 58ms/step - loss: 1.1071 - accuracy: 0.6509 - val_loss: 0.1320 - val_accuracy: 0.9607\n",
      "Epoch 2/15\n",
      "687/687 [==============================] - 42s 61ms/step - loss: 0.0877 - accuracy: 0.9722 - val_loss: 0.0223 - val_accuracy: 0.9942\n",
      "Epoch 3/15\n",
      "687/687 [==============================] - 41s 60ms/step - loss: 0.0454 - accuracy: 0.9852 - val_loss: 0.0081 - val_accuracy: 0.9993\n",
      "Epoch 4/15\n",
      "687/687 [==============================] - 45s 66ms/step - loss: 0.0232 - accuracy: 0.9927 - val_loss: 0.0079 - val_accuracy: 0.9980\n",
      "Epoch 5/15\n",
      "687/687 [==============================] - 44s 63ms/step - loss: 0.0250 - accuracy: 0.9922 - val_loss: 0.0036 - val_accuracy: 0.9996\n",
      "Epoch 6/15\n",
      "687/687 [==============================] - 45s 65ms/step - loss: 0.0167 - accuracy: 0.9948 - val_loss: 0.0035 - val_accuracy: 0.9987\n",
      "Epoch 7/15\n",
      "687/687 [==============================] - 45s 65ms/step - loss: 0.0241 - accuracy: 0.9928 - val_loss: 0.0331 - val_accuracy: 0.9894\n",
      "Epoch 8/15\n",
      "687/687 [==============================] - 44s 64ms/step - loss: 0.0178 - accuracy: 0.9943 - val_loss: 0.0025 - val_accuracy: 1.0000\n",
      "Epoch 9/15\n",
      "687/687 [==============================] - 43s 63ms/step - loss: 0.0124 - accuracy: 0.9965 - val_loss: 6.9556e-05 - val_accuracy: 1.0000\n",
      "Epoch 10/15\n",
      "687/687 [==============================] - 43s 62ms/step - loss: 0.0219 - accuracy: 0.9933 - val_loss: 0.0079 - val_accuracy: 0.9969\n",
      "Epoch 11/15\n",
      "687/687 [==============================] - 42s 61ms/step - loss: 0.0077 - accuracy: 0.9978 - val_loss: 3.7833e-05 - val_accuracy: 1.0000\n",
      "Epoch 12/15\n",
      "687/687 [==============================] - 42s 61ms/step - loss: 0.0160 - accuracy: 0.9954 - val_loss: 0.0015 - val_accuracy: 0.9995\n",
      "Epoch 13/15\n",
      "687/687 [==============================] - 42s 62ms/step - loss: 0.0052 - accuracy: 0.9986 - val_loss: 3.2358e-04 - val_accuracy: 1.0000\n",
      "Epoch 14/15\n",
      "687/687 [==============================] - 42s 61ms/step - loss: 0.0181 - accuracy: 0.9939 - val_loss: 0.0043 - val_accuracy: 0.9978\n",
      "Epoch 15/15\n",
      "687/687 [==============================] - 43s 62ms/step - loss: 0.0088 - accuracy: 0.9973 - val_loss: 1.5504e-05 - val_accuracy: 1.0000\n"
     ]
    }
   ],
   "source": [
    "history=model.fit(x_train,y_train,validation_data=(x_test,y_test),epochs=15,shuffle=1)"
   ]
  },
  {
   "cell_type": "code",
   "execution_count": 203,
   "id": "67d4a28c",
   "metadata": {},
   "outputs": [
    {
     "name": "stdout",
     "output_type": "stream",
     "text": [
      "saved\n"
     ]
    }
   ],
   "source": [
    "model.save(\"sign_mnist_cnn_50_Epochs.h5\")\n",
    "print('saved')"
   ]
  },
  {
   "cell_type": "code",
   "execution_count": 204,
   "id": "3a6623d0",
   "metadata": {
    "scrolled": true
   },
   "outputs": [
    {
     "data": {
      "image/png": "[encoded data removed]",
      "text/plain": [
       "<Figure size 432x288 with 1 Axes>"
      ]
     },
     "metadata": {
      "needs_background": "light"
     },
     "output_type": "display_data"
    }
   ],
   "source": [
    "plt.plot(history.history['accuracy'])\n",
    "plt.plot(history.history['val_accuracy'])\n",
    "plt.title('accuracy')\n",
    "plt.xlabel('epochs')\n",
    "plt.ylabel('accuracy')\n",
    "plt.legend(['train','test'])\n",
    "plt.show()"
   ]
  },
  {
   "cell_type": "code",
   "execution_count": 205,
   "id": "24230354",
   "metadata": {},
   "outputs": [
    {
     "name": "stdout",
     "output_type": "stream",
     "text": [
      "225/225 [==============================] - 3s 15ms/step\n"
     ]
    }
   ],
   "source": [
    "test_images=test_images.reshape(test_images.shape[0], 28,28,1)\n",
    "y_pred=model.predict(test_images)"
   ]
  },
  {
   "cell_type": "code",
   "execution_count": 206,
   "id": "b35898b0",
   "metadata": {},
   "outputs": [
    {
     "data": {
      "text/plain": [
       "0.9117401003904071"
      ]
     },
     "execution_count": 206,
     "metadata": {},
     "output_type": "execute_result"
    }
   ],
   "source": [
    "accuracy_score(test_labels,y_pred.round())"
   ]
  }
 ],
 "metadata": {
  "kernelspec": {
   "display_name": "Python 3 (ipykernel)",
   "language": "python",
   "name": "python3"
  },
  "language_info": {
   "codemirror_mode": {
    "name": "ipython",
    "version": 3
   },
   "file_extension": ".py",
   "mimetype": "text/x-python",
   "name": "python",
   "nbconvert_exporter": "python",
   "pygments_lexer": "ipython3",
   "version": "3.9.12"
  }
 },
 "nbformat": 4,
 "nbformat_minor": 5
}
